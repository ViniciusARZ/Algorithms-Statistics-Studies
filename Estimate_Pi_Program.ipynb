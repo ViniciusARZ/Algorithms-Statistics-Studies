{
  "nbformat": 4,
  "nbformat_minor": 0,
  "metadata": {
    "colab": {
      "name": "Estimate_Pi_Program.ipynb",
      "provenance": [],
      "authorship_tag": "ABX9TyM9CSWJxAJnnEUoCRzExZgZ",
      "include_colab_link": true
    },
    "kernelspec": {
      "name": "python3",
      "display_name": "Python 3"
    },
    "language_info": {
      "name": "python"
    }
  },
  "cells": [
    {
      "cell_type": "markdown",
      "metadata": {
        "id": "view-in-github",
        "colab_type": "text"
      },
      "source": [
        "<a href=\"https://colab.research.google.com/github/ViniciusARZ/Estimate_Pi_Program/blob/main/Estimate_Pi_Program.ipynb\" target=\"_parent\"><img src=\"https://colab.research.google.com/assets/colab-badge.svg\" alt=\"Open In Colab\"/></a>"
      ]
    },
    {
      "cell_type": "markdown",
      "metadata": {
        "id": "RGjYF6X6MCX6"
      },
      "source": [
        "Question: Question: You have a function that generates a number from 0 to 1 randomly, and it's uniformly distributed, calculate π. (Absurd, but smart)"
      ]
    },
    {
      "cell_type": "markdown",
      "metadata": {
        "id": "qETibVcCMagC"
      },
      "source": [
        "Solution: \n",
        "1. Imagining the numbers as a vector in a grid, so the function has to generate a random number for 'x' and a random number for 'y'\n",
        "2. Imagining this grid as a square (x=1,y=1), and thinking that the exercise needs π, a circle with radius 1 can be drawn passing by it. So this would be 1/4 of the circle's area.\n",
        "3. The area of the grid would be the * of its axis, and the distance of a point (trying to find the radius) would be, based on the distance between two points √((xi-x0)²+(yi-y0)²), √(x²+y²) because the x0 is the point 0 of the grid (0,0), equal or lower than 1 (maximum number randomly generated)\n",
        "4. After knowing if the point is inside the circle, the function needs to calculate the ratio of points inside and outside the circle, so basically (Circle Area) / (Grid Area)In other terms: π r²/(2 r)², because r in this case is both the x and y axis of the square as the radius of the circle. This corresponds to the ratio between points inside the circle (PC) and total points (PT). So the equation would be π r²/(2 r)² = PC/PT\n",
        "5. As r is 1 in this case, when it's  substituted in the formula, the result is: π = 4 * PC/PT\n",
        "6. So to get π we put the number of generated points, and the higher the number more accurate it's supposed to be."
      ]
    },
    {
      "cell_type": "code",
      "metadata": {
        "colab": {
          "base_uri": "https://localhost:8080/"
        },
        "id": "oj5sZqXzLsiu",
        "outputId": "0a894ad6-e2c9-4a9f-8997-a513db1ebc99"
      },
      "source": [
        "import random\n",
        "n = int(input(\"How many points do you want?  \"))\n",
        "def estimate_pi(n):\n",
        "  num_point_circle = 0\n",
        "  num_point_total = 0\n",
        "  for _ in range(n):\n",
        "    x = random.uniform(0,1)\n",
        "    y = random.uniform(0,1)\n",
        "    distance = x**2 + y**2\n",
        "    if distance <= 1:\n",
        "      num_point_circle += 1\n",
        "    num_point_total += 1\n",
        "  return 4 * num_point_circle/num_point_total\n",
        "print(\"Your estimate of π is: \",estimate_pi(n),\". And you are\", (estimate_pi(n)/3.14159)*100,\" percent accurate!\")"
      ],
      "execution_count": 37,
      "outputs": [
        {
          "output_type": "stream",
          "name": "stdout",
          "text": [
            "How many points do you want?  1221\n",
            "Your estimate of π is:  3.177723177723178 . And you are 101.56726978463743  percent accurate!\n"
          ]
        }
      ]
    }
  ]
}