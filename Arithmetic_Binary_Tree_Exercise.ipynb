{
  "nbformat": 4,
  "nbformat_minor": 0,
  "metadata": {
    "colab": {
      "name": "Arithmetic_Binary_Tree_Exercise.ipynb",
      "provenance": [],
      "authorship_tag": "ABX9TyMs/+jFS4Ewj6ObyUPWHMNG",
      "include_colab_link": true
    },
    "kernelspec": {
      "name": "python3",
      "display_name": "Python 3"
    },
    "language_info": {
      "name": "python"
    }
  },
  "cells": [
    {
      "cell_type": "markdown",
      "metadata": {
        "id": "view-in-github",
        "colab_type": "text"
      },
      "source": [
        "<a href=\"https://colab.research.google.com/github/ViniciusARZ/Estimate_Pi_Program/blob/main/Arithmetic_Binary_Tree_Exercise.ipynb\" target=\"_parent\"><img src=\"https://colab.research.google.com/assets/colab-badge.svg\" alt=\"Open In Colab\"/></a>"
      ]
    },
    {
      "cell_type": "markdown",
      "metadata": {
        "id": "qmu37oeCYxaw"
      },
      "source": [
        "Question: \n",
        "\n",
        "You are given a binary tree representation of an arithmetic expression. In this tree, each leaf is an integer value, and a non-leaf node is one of the four operations: '+','-','*','/'. Write a function that takes this tree and evaluates the expression.\n",
        "Tree to solve:\n",
        "\n",
        "\n",
        "![image.png](data:image/png;base64,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)"
      ]
    },
    {
      "cell_type": "code",
      "metadata": {
        "colab": {
          "base_uri": "https://localhost:8080/"
        },
        "id": "LvvAd7qJYvUf",
        "outputId": "ce5ae0b4-83f7-454b-8433-236f31f9702c"
      },
      "source": [
        "#Starting point given by the question\n",
        "class Node:\n",
        "  def __init__(self,val,left=None,right=None):\n",
        "    self.val = val\n",
        "    self.left = left\n",
        "    self.right = right\n",
        "\n",
        "PLUS = \"+\"\n",
        "MINUS = \"-\"\n",
        "TIMES = \"*\"\n",
        "DIVIDE = \"/\"\n",
        "\n",
        "#Solution\n",
        "def evaluate(root):\n",
        "  if root.val == PLUS:\n",
        "    return evaluate(root.left) + evaluate(root.right)\n",
        "  elif root.val == MINUS:\n",
        "    return evaluate(root.left) - evaluate(root.right)\n",
        "  elif root.val == TIMES:\n",
        "    return evaluate(root.left) * evaluate(root.right)\n",
        "  elif root.val == DIVIDE:\n",
        "    return evaluate(root.left) / evaluate(root.right)\n",
        "  else:\n",
        "    return root.val\n",
        "\n",
        "tree = Node(TIMES)\n",
        "tree.left = Node(PLUS)\n",
        "tree.left.left = Node(3)\n",
        "tree.left.right = Node(2)\n",
        "tree.right = Node(PLUS)\n",
        "tree.right.left = Node(4)\n",
        "tree.right.right = Node(5)\n",
        "\n",
        "print(\"The expression of the tree is \", evaluate(tree))"
      ],
      "execution_count": 3,
      "outputs": [
        {
          "output_type": "stream",
          "name": "stdout",
          "text": [
            "The expression of the tree is  45\n"
          ]
        }
      ]
    }
  ]
}