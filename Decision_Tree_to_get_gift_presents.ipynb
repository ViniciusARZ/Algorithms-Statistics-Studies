{
  "nbformat": 4,
  "nbformat_minor": 0,
  "metadata": {
    "colab": {
      "name": "Decision Tree to get gift presents.ipynb",
      "provenance": [],
      "authorship_tag": "ABX9TyMFZom8ZbILLU080H71J7h0"
    },
    "kernelspec": {
      "name": "python3",
      "display_name": "Python 3"
    },
    "language_info": {
      "name": "python"
    }
  },
  "cells": [
    {
      "cell_type": "code",
      "execution_count": 1,
      "metadata": {
        "id": "GsSDXwM4WedN"
      },
      "outputs": [],
      "source": [
        "import pandas as pd\n",
        "from sklearn.tree import DecisionTreeClassifier\n",
        "from sklearn.model_selection import train_test_split\n",
        "import numpy as np"
      ]
    },
    {
      "cell_type": "code",
      "source": [
        "gifts_amazon = pd.read_csv('/content/amazon electronics.csv')\n",
        "#Taking a look at the dataset\n",
        "gifts_amazon.head(3)"
      ],
      "metadata": {
        "colab": {
          "base_uri": "https://localhost:8080/",
          "height": 143
        },
        "id": "g61SBFAUZoWi",
        "outputId": "fcba72c3-f13e-45dd-a10a-ec0af75f976a"
      },
      "execution_count": 2,
      "outputs": [
        {
          "output_type": "execute_result",
          "data": {
            "text/html": [
              "<div>\n",
              "<style scoped>\n",
              "    .dataframe tbody tr th:only-of-type {\n",
              "        vertical-align: middle;\n",
              "    }\n",
              "\n",
              "    .dataframe tbody tr th {\n",
              "        vertical-align: top;\n",
              "    }\n",
              "\n",
              "    .dataframe thead th {\n",
              "        text-align: right;\n",
              "    }\n",
              "</style>\n",
              "<table border=\"1\" class=\"dataframe\">\n",
              "  <thead>\n",
              "    <tr style=\"text-align: right;\">\n",
              "      <th></th>\n",
              "      <th>Unnamed: 0</th>\n",
              "      <th>rankings</th>\n",
              "      <th>name</th>\n",
              "      <th>stars</th>\n",
              "      <th>number_of_ratings</th>\n",
              "      <th>price</th>\n",
              "      <th>price range</th>\n",
              "    </tr>\n",
              "  </thead>\n",
              "  <tbody>\n",
              "    <tr>\n",
              "      <th>0</th>\n",
              "      <td>0</td>\n",
              "      <td>0</td>\n",
              "      <td>Fire TV Stick with Alexa Voice Remote (include...</td>\n",
              "      <td>4.0</td>\n",
              "      <td>87946</td>\n",
              "      <td>19.99</td>\n",
              "      <td>under 25</td>\n",
              "    </tr>\n",
              "    <tr>\n",
              "      <th>1</th>\n",
              "      <td>1</td>\n",
              "      <td>1</td>\n",
              "      <td>Fire TV Stick 4K streaming device with Alexa V...</td>\n",
              "      <td>4.0</td>\n",
              "      <td>5714</td>\n",
              "      <td>24.99</td>\n",
              "      <td>under 25</td>\n",
              "    </tr>\n",
              "    <tr>\n",
              "      <th>2</th>\n",
              "      <td>2</td>\n",
              "      <td>2</td>\n",
              "      <td>Echo Dot (3rd Gen) - Smart speaker with Alexa ...</td>\n",
              "      <td>4.0</td>\n",
              "      <td>783750</td>\n",
              "      <td>19.99</td>\n",
              "      <td>under 25</td>\n",
              "    </tr>\n",
              "  </tbody>\n",
              "</table>\n",
              "</div>"
            ],
            "text/plain": [
              "   Unnamed: 0  rankings  ...  price  price range\n",
              "0           0         0  ...  19.99     under 25\n",
              "1           1         1  ...  24.99     under 25\n",
              "2           2         2  ...  19.99     under 25\n",
              "\n",
              "[3 rows x 7 columns]"
            ]
          },
          "metadata": {},
          "execution_count": 2
        }
      ]
    },
    {
      "cell_type": "code",
      "source": [
        "#Checking Missing Values or errors\n",
        "gifts_amazon.info()"
      ],
      "metadata": {
        "colab": {
          "base_uri": "https://localhost:8080/"
        },
        "id": "NdexSUvTZ-in",
        "outputId": "a4bee4af-8f87-4283-b0eb-bbc7a30d731e"
      },
      "execution_count": 3,
      "outputs": [
        {
          "output_type": "stream",
          "name": "stdout",
          "text": [
            "<class 'pandas.core.frame.DataFrame'>\n",
            "RangeIndex: 100 entries, 0 to 99\n",
            "Data columns (total 7 columns):\n",
            " #   Column             Non-Null Count  Dtype  \n",
            "---  ------             --------------  -----  \n",
            " 0   Unnamed: 0         100 non-null    int64  \n",
            " 1   rankings           100 non-null    int64  \n",
            " 2   name               100 non-null    object \n",
            " 3   stars              100 non-null    float64\n",
            " 4   number_of_ratings  100 non-null    int64  \n",
            " 5   price              100 non-null    float64\n",
            " 6   price range        100 non-null    object \n",
            "dtypes: float64(2), int64(3), object(2)\n",
            "memory usage: 5.6+ KB\n"
          ]
        }
      ]
    },
    {
      "cell_type": "code",
      "source": [
        "# Encoding the column Name for rankings using unique names\n",
        "names = [i for i in gifts_amazon['name']]"
      ],
      "metadata": {
        "id": "E6m5xhBTaHuo"
      },
      "execution_count": 4,
      "outputs": []
    },
    {
      "cell_type": "code",
      "source": [
        "#Using name as the product ID, and dropping the column to make sure that it doesn't get added back (implace=True)\n",
        "gifts_amazon.drop(columns=\"name\",inplace=True)"
      ],
      "metadata": {
        "id": "ixGuc_9KadYv"
      },
      "execution_count": 5,
      "outputs": []
    },
    {
      "cell_type": "code",
      "source": [
        "#Defining X and Y columns \n",
        "gifts_x = np.array(gifts_amazon.iloc[:,:-1].values) #every column except last one\n",
        "gifts_y = np.array(gifts_amazon.iloc[:,-1].values) #only the last one"
      ],
      "metadata": {
        "id": "q87mM0I-almv"
      },
      "execution_count": 6,
      "outputs": []
    },
    {
      "cell_type": "code",
      "source": [
        "#Using sklearn method to split training and testing datasets\n",
        "x_train,x_test,y_train,y_test = train_test_split(gifts_x,gifts_y,train_size=0.2) #using 20% of dataset as training data because it isn't big"
      ],
      "metadata": {
        "id": "4O2otaJJbYtP"
      },
      "execution_count": 7,
      "outputs": []
    },
    {
      "cell_type": "code",
      "source": [
        "#Creating the decision tree using classifier from sklearn\n",
        "dt = DecisionTreeClassifier()"
      ],
      "metadata": {
        "id": "IOdXf_9Zb71K"
      },
      "execution_count": 8,
      "outputs": []
    },
    {
      "cell_type": "code",
      "source": [
        "dt.fit(x_train,y_train)"
      ],
      "metadata": {
        "colab": {
          "base_uri": "https://localhost:8080/"
        },
        "id": "h8I_Al6rcBHg",
        "outputId": "a062a7e3-542c-4d51-ed22-2c6fb1d0e622"
      },
      "execution_count": 9,
      "outputs": [
        {
          "output_type": "execute_result",
          "data": {
            "text/plain": [
              "DecisionTreeClassifier()"
            ]
          },
          "metadata": {},
          "execution_count": 9
        }
      ]
    },
    {
      "cell_type": "code",
      "source": [
        "y_pred = dt.predict(x_test)"
      ],
      "metadata": {
        "id": "42i8WWBFcKMf"
      },
      "execution_count": 10,
      "outputs": []
    },
    {
      "cell_type": "code",
      "source": [
        "options = []\n",
        "\n",
        "for i in range(len(y_pred)):\n",
        "    if y_pred[i] == \"$25 to $50\":\n",
        "        options.append(names[i])\n",
        "options"
      ],
      "metadata": {
        "id": "_K81v5A5m7q9"
      },
      "execution_count": null,
      "outputs": []
    },
    {
      "cell_type": "markdown",
      "source": [
        "Input for user to choose the price range"
      ],
      "metadata": {
        "id": "IGpHh1Finz9a"
      }
    },
    {
      "cell_type": "code",
      "source": [
        "options = []\n",
        "print(\"Options\",gifts_amazon['price range'].unique()) #to choose the price range you want\n",
        "range_value = input(\"How much you want to spend ? \") #input for the user to chosse\n",
        "for i in range(len(y_pred)):\n",
        "    if y_pred[i] == range_value:\n",
        "        options.append(names[i])\n",
        "options"
      ],
      "metadata": {
        "colab": {
          "base_uri": "https://localhost:8080/"
        },
        "id": "kLaiwFtsfsmu",
        "outputId": "566c326a-fba9-4fff-f7ae-e41d60ff853f"
      },
      "execution_count": 21,
      "outputs": [
        {
          "name": "stdout",
          "output_type": "stream",
          "text": [
            "Options ['under 25' '$25 to $50' '$50 to $100' '$200 and above' '$100 to $200']\n",
            "How much you want to spend ? $25 to $50\n"
          ]
        },
        {
          "output_type": "execute_result",
          "data": {
            "text/plain": [
              "['Fire TV Stick 4K streaming device with Alexa Voice Remote (includes TV controls) | Dolby Vision',\n",
              " 'Echo Auto- Hands-free Alexa in your car with your phone',\n",
              " 'Introducing Amazon Halo View fitness tracker, with color display for at-a-glance access to heart rate, activity, and sleep tracking – Active Black – Small/Medium',\n",
              " 'Echo Dot (4th Gen) Kids | Designed for kids, with parental controls | Tiger',\n",
              " 'Fire 7 tablet, 7\" display, 16 GB, latest model (2019 release), Plum',\n",
              " 'All-new Echo Show 5 (2nd Gen, 2021 release) - Charcoal bundle with Blink Mini',\n",
              " 'Apple Watch Series\\xa07 GPS, 45mm Midnight Aluminum Case with Midnight Sport Band - Regular',\n",
              " 'Insignia NS-24DF310NA21 24-inch Smart HD 720p TV - Fire TV',\n",
              " 'TTile Mate (2022) 1-Pack, Black. Bluetooth Tracker, Keys Finder and Item Locator; Up to 250 ft. Range. Up to 3 Year Battery. Water-Resistant. Phone Finder. iOS and Android Compatible.',\n",
              " '12x42 High Definition Binoculars for Adults with Universal Phone Adapter - Super Bright\\xa0Binoculars with Large View- Lightweight Waterproof Binoculars\\u2002for Bird Watching Hunting stargazing\\xa0Hiking Sports',\n",
              " 'All-new Echo Show 5 (2nd Gen, 2021 release) | Smart display with Alexa and 2 MP camera | Deep Sea Blue',\n",
              " 'Roku Premiere | HD/4K/HDR Streaming Media Player, Simple Remote and Premium HDMI Cable, Black',\n",
              " 'Blink Outdoor – wireless, weather-resistant HD security camera with two-year battery life and motion detection, set up in minutes – 5 camera kit',\n",
              " 'SAMSUNG 49-inch Odyssey G9 Gaming Monitor | QHD, 240hz, 1000R Curved, QLED, NVIDIA G-SYNC & FreeSync | LC49G95TSSNXZA Model',\n",
              " 'TP-Link AC1750 Smart WiFi Router (Archer A7) -Dual Band Gigabit Wireless Internet Router for Home, Works with Alexa, VPN Server, Parental Control, QoS',\n",
              " 'Introducing Fire HD 10 Kids Pro tablet, 10.1\", 1080p Full HD, ages 6–12, 32 GB, Black',\n",
              " 'Power Strip, AHRISE Extension Cord with 6 AC Outlets and 4 USB Charging Ports(5V/3.4A,17W) for Smartphone Tablets Home, Office, Hotel, Cruise Ship, 5 Feet Long Cord, ETL Listed -Black',\n",
              " '12x42 HD Professional Binoculars for Adults with Phone Adapter: High Power Waterproof Compact and Low Light Night Vision Binoculars with BAK4 Prism FMC Lens for Bird Watching Hunting Traveling Hiking…']"
            ]
          },
          "metadata": {},
          "execution_count": 21
        }
      ]
    },
    {
      "cell_type": "markdown",
      "source": [
        "Checking the prediction and algorithm accurency in the dataset"
      ],
      "metadata": {
        "id": "OSJNgVOdn4Xi"
      }
    },
    {
      "cell_type": "code",
      "source": [
        "encoded_gifts_x = np.array(gifts_amazon.iloc[:,:-1].values)\n",
        "encoded_gifts_y = np.array(gifts_amazon.iloc[:,-1].values)\n",
        "X_train,X_test,y_train,y_test = train_test_split(encoded_gifts_x,encoded_gifts_y,train_size = 0.2)\n",
        "dt = DecisionTreeClassifier()\n",
        "dt.fit(X_train,y_train)\n",
        "print(\"The accurency for this test was: \", dt.score(X_test,y_test),\". But it might change because the test sample is random among the total dataset\")"
      ],
      "metadata": {
        "colab": {
          "base_uri": "https://localhost:8080/"
        },
        "id": "QYjdJMB9ci_Y",
        "outputId": "62da5d76-ed33-4ccb-c11b-7eddbfa8d3cc"
      },
      "execution_count": 30,
      "outputs": [
        {
          "output_type": "stream",
          "name": "stdout",
          "text": [
            "The accurency for this test was:  0.9125 . But it might change because the test sample is random among the total dataset\n"
          ]
        }
      ]
    }
  ]
}